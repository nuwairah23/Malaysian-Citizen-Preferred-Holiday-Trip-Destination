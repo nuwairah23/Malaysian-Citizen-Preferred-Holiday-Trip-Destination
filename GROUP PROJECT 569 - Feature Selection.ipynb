{
 "cells": [
  {
   "cell_type": "code",
   "execution_count": 1,
   "id": "6e2e23b6",
   "metadata": {},
   "outputs": [],
   "source": [
    "# Best using Features Selection: mutual_info_classif\n",
    "# Approach to find relationship between label and features\n",
    "\n",
    "# Read data from external file \n",
    "import pandas as pd \n",
    "df = pd.read_csv(\"/Users/nuwai/Downloads/Reduced_Class_Train.csv\")"
   ]
  },
  {
   "cell_type": "code",
   "execution_count": 2,
   "id": "7a27c06b",
   "metadata": {},
   "outputs": [],
   "source": [
    "#Data transformation\n",
    "from sklearn.preprocessing import LabelEncoder\n",
    "var_mod = ['gender','timing','typeOfTravel','destination','activities','transport','planning','package','foodplace','attractions','accommodation','cancelPolicy']\n",
    "le = LabelEncoder()\n",
    "for i in var_mod:\n",
    "    df[i] = le.fit_transform(df[i])\n",
    "    "
   ]
  },
  {
   "cell_type": "code",
   "execution_count": 4,
   "id": "f5bab4ea",
   "metadata": {},
   "outputs": [
    {
     "name": "stdout",
     "output_type": "stream",
     "text": [
      "<class 'pandas.core.frame.DataFrame'>\n",
      "RangeIndex: 350 entries, 0 to 349\n",
      "Data columns (total 15 columns):\n",
      " #   Column         Non-Null Count  Dtype\n",
      "---  ------         --------------  -----\n",
      " 0   age            350 non-null    int64\n",
      " 1   gender         350 non-null    int32\n",
      " 2   budget         350 non-null    int64\n",
      " 3   noOfStays      350 non-null    int64\n",
      " 4   timing         350 non-null    int32\n",
      " 5   typeOfTravel   350 non-null    int32\n",
      " 6   destination    350 non-null    int32\n",
      " 7   activities     350 non-null    int32\n",
      " 8   transport      350 non-null    int32\n",
      " 9   planning       350 non-null    int32\n",
      " 10  package        350 non-null    int32\n",
      " 11  foodplace      350 non-null    int32\n",
      " 12  attractions    350 non-null    int32\n",
      " 13  accommodation  350 non-null    int32\n",
      " 14  cancelPolicy   350 non-null    int32\n",
      "dtypes: int32(12), int64(3)\n",
      "memory usage: 24.7 KB\n"
     ]
    }
   ],
   "source": [
    "# Data slicing \n",
    "x = df.iloc[:, [0,1,2,3,4,5,7,8,9,10,11,12,13,14]]  #features\n",
    "y = df.iloc[:, 6]  #label\n",
    "x.head()\n",
    "df.info()"
   ]
  },
  {
   "cell_type": "code",
   "execution_count": 5,
   "id": "b8c14748",
   "metadata": {},
   "outputs": [
    {
     "data": {
      "image/png": "[encoded data removed]",
      "text/plain": [
       "<Figure size 432x288 with 1 Axes>"
      ]
     },
     "metadata": {
      "needs_background": "light"
     },
     "output_type": "display_data"
    }
   ],
   "source": [
    "from sklearn.feature_selection import mutual_info_classif\n",
    "import matplotlib.pyplot as plt\n",
    "\n",
    "importances = mutual_info_classif(x, y)\n",
    "feat_importances = pd.Series(importances, df.columns[0:len(df.columns)-1])\n",
    "feat_importances.plot(kind='barh', color='teal')\n",
    "plt.show()"
   ]
  },
  {
   "cell_type": "code",
   "execution_count": 6,
   "id": "a4a2450b",
   "metadata": {},
   "outputs": [
    {
     "data": {
      "text/html": [
       "<div>\n",
       "<style scoped>\n",
       "    .dataframe tbody tr th:only-of-type {\n",
       "        vertical-align: middle;\n",
       "    }\n",
       "\n",
       "    .dataframe tbody tr th {\n",
       "        vertical-align: top;\n",
       "    }\n",
       "\n",
       "    .dataframe thead th {\n",
       "        text-align: right;\n",
       "    }\n",
       "</style>\n",
       "<table border=\"1\" class=\"dataframe\">\n",
       "  <thead>\n",
       "    <tr style=\"text-align: right;\">\n",
       "      <th></th>\n",
       "      <th>age</th>\n",
       "      <th>budget</th>\n",
       "      <th>planning</th>\n",
       "      <th>package</th>\n",
       "      <th>attractions</th>\n",
       "      <th>cancelPolicy</th>\n",
       "    </tr>\n",
       "  </thead>\n",
       "  <tbody>\n",
       "    <tr>\n",
       "      <th>0</th>\n",
       "      <td>21</td>\n",
       "      <td>2000</td>\n",
       "      <td>1</td>\n",
       "      <td>1</td>\n",
       "      <td>1</td>\n",
       "      <td>1</td>\n",
       "    </tr>\n",
       "    <tr>\n",
       "      <th>1</th>\n",
       "      <td>21</td>\n",
       "      <td>5000</td>\n",
       "      <td>0</td>\n",
       "      <td>0</td>\n",
       "      <td>2</td>\n",
       "      <td>1</td>\n",
       "    </tr>\n",
       "    <tr>\n",
       "      <th>2</th>\n",
       "      <td>22</td>\n",
       "      <td>800</td>\n",
       "      <td>0</td>\n",
       "      <td>1</td>\n",
       "      <td>0</td>\n",
       "      <td>1</td>\n",
       "    </tr>\n",
       "    <tr>\n",
       "      <th>3</th>\n",
       "      <td>32</td>\n",
       "      <td>1200</td>\n",
       "      <td>0</td>\n",
       "      <td>0</td>\n",
       "      <td>2</td>\n",
       "      <td>1</td>\n",
       "    </tr>\n",
       "    <tr>\n",
       "      <th>4</th>\n",
       "      <td>36</td>\n",
       "      <td>1200</td>\n",
       "      <td>0</td>\n",
       "      <td>0</td>\n",
       "      <td>1</td>\n",
       "      <td>1</td>\n",
       "    </tr>\n",
       "  </tbody>\n",
       "</table>\n",
       "</div>"
      ],
      "text/plain": [
       "   age  budget  planning  package  attractions  cancelPolicy\n",
       "0   21    2000         1        1            1             1\n",
       "1   21    5000         0        0            2             1\n",
       "2   22     800         0        1            0             1\n",
       "3   32    1200         0        0            2             1\n",
       "4   36    1200         0        0            1             1"
      ]
     },
     "execution_count": 6,
     "metadata": {},
     "output_type": "execute_result"
    }
   ],
   "source": [
    "# Data slicing \n",
    "x = df.iloc[:, [0,2,9,10,12,14]]\n",
    "y = df.iloc[:, [6]] \n",
    "x.head() "
   ]
  },
  {
   "cell_type": "code",
   "execution_count": 7,
   "id": "8035a064",
   "metadata": {},
   "outputs": [],
   "source": [
    "# Convert dataframe to array \n",
    "x = x.values \n",
    "y = y.values \n",
    "y = y.ravel() "
   ]
  },
  {
   "cell_type": "code",
   "execution_count": 8,
   "id": "55ae04db",
   "metadata": {},
   "outputs": [],
   "source": [
    "# K-Nearest Neighbor \n",
    "from sklearn.neighbors import KNeighborsClassifier \n",
    "model = KNeighborsClassifier(n_neighbors = 9, weights = 'distance', algorithm = 'auto', leaf_size=100, p = 1, metric = 'minkowski') \n",
    "\n",
    "model.fit(x, y) \n",
    "yPred = model.predict(x) "
   ]
  },
  {
   "cell_type": "code",
   "execution_count": 9,
   "id": "42b87cf0",
   "metadata": {},
   "outputs": [
    {
     "data": {
      "image/png": "[encoded data removed]",
      "text/plain": [
       "<Figure size 648x648 with 2 Axes>"
      ]
     },
     "metadata": {
      "needs_background": "light"
     },
     "output_type": "display_data"
    }
   ],
   "source": [
    "# Testing & performance analysis -Trainning data \n",
    "import sklearn.metrics as skm \n",
    "import matplotlib.pyplot as plt \n",
    "import seaborn as sns \n",
    "plt.figure(figsize=(9,9)) \n",
    "sns.heatmap(skm.confusion_matrix(y, yPred), annot=True, fmt=\".3f\", linewidths=.5, square = True, cmap = 'Blues_r'); \n",
    "plt.ylabel('Actual label'); \n",
    "plt.xlabel('Predicted label'); \n",
    "all_sample_title = 'Trainning: Accuracy Score: {0}'.format(skm.accuracy_score(y, yPred)) \n",
    "plt.title(all_sample_title, size = 15); "
   ]
  },
  {
   "cell_type": "code",
   "execution_count": 10,
   "id": "a8e06983",
   "metadata": {},
   "outputs": [],
   "source": [
    "# Read data from external file \n",
    "import pandas as pd \n",
    "df2 = pd.read_csv(\"/Users/nuwai/Downloads/Reduced_Class_Test.csv\") "
   ]
  },
  {
   "cell_type": "code",
   "execution_count": 11,
   "id": "15de2b39",
   "metadata": {},
   "outputs": [],
   "source": [
    "#Data transformation\n",
    "from sklearn.preprocessing import LabelEncoder\n",
    "var_mod = ['gender','timing','typeOfTravel','destination','activities','transport','planning','package','foodplace','attractions','accommodation','cancelPolicy']\n",
    "le = LabelEncoder()\n",
    "for i in var_mod:\n",
    "    df2[i] = le.fit_transform(df2[i])"
   ]
  },
  {
   "cell_type": "code",
   "execution_count": 12,
   "id": "883c1e1c",
   "metadata": {
    "scrolled": true
   },
   "outputs": [
    {
     "data": {
      "text/html": [
       "<div>\n",
       "<style scoped>\n",
       "    .dataframe tbody tr th:only-of-type {\n",
       "        vertical-align: middle;\n",
       "    }\n",
       "\n",
       "    .dataframe tbody tr th {\n",
       "        vertical-align: top;\n",
       "    }\n",
       "\n",
       "    .dataframe thead th {\n",
       "        text-align: right;\n",
       "    }\n",
       "</style>\n",
       "<table border=\"1\" class=\"dataframe\">\n",
       "  <thead>\n",
       "    <tr style=\"text-align: right;\">\n",
       "      <th></th>\n",
       "      <th>age</th>\n",
       "      <th>budget</th>\n",
       "      <th>planning</th>\n",
       "      <th>package</th>\n",
       "      <th>attractions</th>\n",
       "      <th>cancelPolicy</th>\n",
       "    </tr>\n",
       "  </thead>\n",
       "  <tbody>\n",
       "    <tr>\n",
       "      <th>0</th>\n",
       "      <td>25</td>\n",
       "      <td>4500</td>\n",
       "      <td>1</td>\n",
       "      <td>1</td>\n",
       "      <td>1</td>\n",
       "      <td>1</td>\n",
       "    </tr>\n",
       "    <tr>\n",
       "      <th>1</th>\n",
       "      <td>18</td>\n",
       "      <td>1000</td>\n",
       "      <td>0</td>\n",
       "      <td>1</td>\n",
       "      <td>2</td>\n",
       "      <td>0</td>\n",
       "    </tr>\n",
       "    <tr>\n",
       "      <th>2</th>\n",
       "      <td>21</td>\n",
       "      <td>1000</td>\n",
       "      <td>0</td>\n",
       "      <td>1</td>\n",
       "      <td>1</td>\n",
       "      <td>1</td>\n",
       "    </tr>\n",
       "    <tr>\n",
       "      <th>3</th>\n",
       "      <td>18</td>\n",
       "      <td>2000</td>\n",
       "      <td>0</td>\n",
       "      <td>1</td>\n",
       "      <td>1</td>\n",
       "      <td>1</td>\n",
       "    </tr>\n",
       "    <tr>\n",
       "      <th>4</th>\n",
       "      <td>41</td>\n",
       "      <td>5000</td>\n",
       "      <td>0</td>\n",
       "      <td>0</td>\n",
       "      <td>1</td>\n",
       "      <td>1</td>\n",
       "    </tr>\n",
       "  </tbody>\n",
       "</table>\n",
       "</div>"
      ],
      "text/plain": [
       "   age  budget  planning  package  attractions  cancelPolicy\n",
       "0   25    4500         1        1            1             1\n",
       "1   18    1000         0        1            2             0\n",
       "2   21    1000         0        1            1             1\n",
       "3   18    2000         0        1            1             1\n",
       "4   41    5000         0        0            1             1"
      ]
     },
     "execution_count": 12,
     "metadata": {},
     "output_type": "execute_result"
    }
   ],
   "source": [
    "# Data slicing \n",
    "x2 = df2.iloc[:, [0,2,9,10,12,14]] #77%\n",
    "#x2 = dfCSV2.iloc[:, [10,9,6,5,3,1]] #68%\n",
    "#x2 = dfCSV2.iloc[:, [9,1]] #?\n",
    "#x2 = dfCSV2.iloc[:, [9,6,2,1]] #?%\n",
    "y2 = df2.iloc[:, [6]] \n",
    "x2.head() "
   ]
  },
  {
   "cell_type": "code",
   "execution_count": 13,
   "id": "810c2260",
   "metadata": {},
   "outputs": [],
   "source": [
    "# Convert dataframe to array \n",
    "x2 = x2.values \n",
    "y2 = y2.values \n",
    "y2 = y2.ravel() \n",
    "\n",
    "yPred2 = model.predict(x2) "
   ]
  },
  {
   "cell_type": "code",
   "execution_count": 14,
   "id": "51b6c5f2",
   "metadata": {},
   "outputs": [
    {
     "data": {
      "image/png": "[encoded data removed]",
      "text/plain": [
       "<Figure size 648x648 with 2 Axes>"
      ]
     },
     "metadata": {
      "needs_background": "light"
     },
     "output_type": "display_data"
    }
   ],
   "source": [
    "# Testing & performance analysis -Testing data \n",
    "import sklearn.metrics as skm \n",
    "import matplotlib.pyplot as plt \n",
    "import seaborn as sns \n",
    "plt.figure(figsize=(9,9)) \n",
    "sns.heatmap(skm.confusion_matrix(y2, yPred2), annot=True, fmt=\".3f\", linewidths=.5, square = True, cmap = 'Blues_r'); \n",
    "plt.ylabel('Actual label'); \n",
    "plt.xlabel('Predicted label'); \n",
    "all_sample_title = 'Testing: Accuracy Score: {0}'.format(skm.accuracy_score(y2, yPred2)) \n",
    "plt.title(all_sample_title, size = 15);"
   ]
  },
  {
   "cell_type": "code",
   "execution_count": 15,
   "id": "12558dcd",
   "metadata": {},
   "outputs": [
    {
     "name": "stdout",
     "output_type": "stream",
     "text": [
      "<class 'pandas.core.frame.DataFrame'>\n",
      "RangeIndex: 350 entries, 0 to 349\n",
      "Data columns (total 15 columns):\n",
      " #   Column         Non-Null Count  Dtype\n",
      "---  ------         --------------  -----\n",
      " 0   age            350 non-null    int64\n",
      " 1   gender         350 non-null    int32\n",
      " 2   budget         350 non-null    int64\n",
      " 3   noOfStays      350 non-null    int64\n",
      " 4   timing         350 non-null    int32\n",
      " 5   typeOfTravel   350 non-null    int32\n",
      " 6   destination    350 non-null    int32\n",
      " 7   activities     350 non-null    int32\n",
      " 8   transport      350 non-null    int32\n",
      " 9   planning       350 non-null    int32\n",
      " 10  package        350 non-null    int32\n",
      " 11  foodplace      350 non-null    int32\n",
      " 12  attractions    350 non-null    int32\n",
      " 13  accommodation  350 non-null    int32\n",
      " 14  cancelPolicy   350 non-null    int32\n",
      "dtypes: int32(12), int64(3)\n",
      "memory usage: 24.7 KB\n"
     ]
    }
   ],
   "source": [
    "df.info()"
   ]
  }
 ],
 "metadata": {
  "kernelspec": {
   "display_name": "Python 3 (ipykernel)",
   "language": "python",
   "name": "python3"
  },
  "language_info": {
   "codemirror_mode": {
    "name": "ipython",
    "version": 3
   },
   "file_extension": ".py",
   "mimetype": "text/x-python",
   "name": "python",
   "nbconvert_exporter": "python",
   "pygments_lexer": "ipython3",
   "version": "3.9.12"
  }
 },
 "nbformat": 4,
 "nbformat_minor": 5
}
