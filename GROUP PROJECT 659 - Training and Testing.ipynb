{
 "cells": [
  {
   "cell_type": "code",
   "execution_count": 1,
   "id": "fc7128c6",
   "metadata": {},
   "outputs": [
    {
     "data": {
      "text/html": [
       "<div>\n",
       "<style scoped>\n",
       "    .dataframe tbody tr th:only-of-type {\n",
       "        vertical-align: middle;\n",
       "    }\n",
       "\n",
       "    .dataframe tbody tr th {\n",
       "        vertical-align: top;\n",
       "    }\n",
       "\n",
       "    .dataframe thead th {\n",
       "        text-align: right;\n",
       "    }\n",
       "</style>\n",
       "<table border=\"1\" class=\"dataframe\">\n",
       "  <thead>\n",
       "    <tr style=\"text-align: right;\">\n",
       "      <th></th>\n",
       "      <th>age</th>\n",
       "      <th>gender</th>\n",
       "      <th>budget</th>\n",
       "      <th>noOfStays</th>\n",
       "      <th>timing</th>\n",
       "      <th>typeOfTravel</th>\n",
       "      <th>destination</th>\n",
       "      <th>activities</th>\n",
       "      <th>transport</th>\n",
       "      <th>planning</th>\n",
       "      <th>package</th>\n",
       "      <th>foodplace</th>\n",
       "      <th>attractions</th>\n",
       "      <th>accommodation</th>\n",
       "      <th>cancelPolicy</th>\n",
       "    </tr>\n",
       "  </thead>\n",
       "  <tbody>\n",
       "    <tr>\n",
       "      <th>0</th>\n",
       "      <td>21</td>\n",
       "      <td>Female</td>\n",
       "      <td>2000</td>\n",
       "      <td>3</td>\n",
       "      <td>End of the year</td>\n",
       "      <td>Normal travel</td>\n",
       "      <td>Towns</td>\n",
       "      <td>Water activities</td>\n",
       "      <td>Personal Vehicle</td>\n",
       "      <td>Tour</td>\n",
       "      <td>Yes</td>\n",
       "      <td>Western/Steak house</td>\n",
       "      <td>Man-made Attractions</td>\n",
       "      <td>Hotels</td>\n",
       "      <td>Yes</td>\n",
       "    </tr>\n",
       "    <tr>\n",
       "      <th>1</th>\n",
       "      <td>21</td>\n",
       "      <td>Female</td>\n",
       "      <td>5000</td>\n",
       "      <td>4</td>\n",
       "      <td>Middle of the year</td>\n",
       "      <td>Backpacking</td>\n",
       "      <td>Islands</td>\n",
       "      <td>Water activities</td>\n",
       "      <td>Booking a flight</td>\n",
       "      <td>Self Explore</td>\n",
       "      <td>No</td>\n",
       "      <td>Seafood Restaurants</td>\n",
       "      <td>Natural Attractions</td>\n",
       "      <td>Resorts</td>\n",
       "      <td>Yes</td>\n",
       "    </tr>\n",
       "  </tbody>\n",
       "</table>\n",
       "</div>"
      ],
      "text/plain": [
       "   age  gender  budget  noOfStays              timing   typeOfTravel   \n",
       "0   21  Female    2000          3     End of the year  Normal travel  \\\n",
       "1   21  Female    5000          4  Middle of the year    Backpacking   \n",
       "\n",
       "  destination        activities         transport      planning package   \n",
       "0       Towns  Water activities  Personal Vehicle          Tour     Yes  \\\n",
       "1     Islands  Water activities  Booking a flight  Self Explore      No   \n",
       "\n",
       "             foodplace           attractions accommodation cancelPolicy  \n",
       "0  Western/Steak house  Man-made Attractions        Hotels          Yes  \n",
       "1  Seafood Restaurants   Natural Attractions       Resorts          Yes  "
      ]
     },
     "execution_count": 1,
     "metadata": {},
     "output_type": "execute_result"
    }
   ],
   "source": [
    "# Read data from external file \n",
    "import pandas as pd \n",
    "df = pd.read_csv(\"/Users/nuwai/Downloads/Reduced_Class_Train.csv\")\n",
    "df.head(2)"
   ]
  },
  {
   "cell_type": "code",
   "execution_count": 2,
   "id": "5d95a607",
   "metadata": {},
   "outputs": [],
   "source": [
    "#Data transformation\n",
    "from sklearn.preprocessing import LabelEncoder\n",
    "var_mod = ['gender','timing','typeOfTravel','destination','activities','transport','planning','package','foodplace','attractions','accommodation','cancelPolicy']\n",
    "le = LabelEncoder()\n",
    "for i in var_mod:\n",
    "    df[i] = le.fit_transform(df[i])"
   ]
  },
  {
   "cell_type": "code",
   "execution_count": 4,
   "id": "9ee575c9",
   "metadata": {},
   "outputs": [
    {
     "data": {
      "text/html": [
       "<div>\n",
       "<style scoped>\n",
       "    .dataframe tbody tr th:only-of-type {\n",
       "        vertical-align: middle;\n",
       "    }\n",
       "\n",
       "    .dataframe tbody tr th {\n",
       "        vertical-align: top;\n",
       "    }\n",
       "\n",
       "    .dataframe thead th {\n",
       "        text-align: right;\n",
       "    }\n",
       "</style>\n",
       "<table border=\"1\" class=\"dataframe\">\n",
       "  <thead>\n",
       "    <tr style=\"text-align: right;\">\n",
       "      <th></th>\n",
       "      <th>age</th>\n",
       "      <th>gender</th>\n",
       "      <th>budget</th>\n",
       "      <th>noOfStays</th>\n",
       "      <th>transport</th>\n",
       "      <th>package</th>\n",
       "      <th>foodplace</th>\n",
       "      <th>attractions</th>\n",
       "      <th>accommodation</th>\n",
       "      <th>cancelPolicy</th>\n",
       "    </tr>\n",
       "  </thead>\n",
       "  <tbody>\n",
       "    <tr>\n",
       "      <th>0</th>\n",
       "      <td>21</td>\n",
       "      <td>0</td>\n",
       "      <td>2000</td>\n",
       "      <td>3</td>\n",
       "      <td>3</td>\n",
       "      <td>1</td>\n",
       "      <td>3</td>\n",
       "      <td>1</td>\n",
       "      <td>2</td>\n",
       "      <td>1</td>\n",
       "    </tr>\n",
       "    <tr>\n",
       "      <th>1</th>\n",
       "      <td>21</td>\n",
       "      <td>0</td>\n",
       "      <td>5000</td>\n",
       "      <td>4</td>\n",
       "      <td>0</td>\n",
       "      <td>0</td>\n",
       "      <td>2</td>\n",
       "      <td>2</td>\n",
       "      <td>3</td>\n",
       "      <td>1</td>\n",
       "    </tr>\n",
       "  </tbody>\n",
       "</table>\n",
       "</div>"
      ],
      "text/plain": [
       "   age  gender  budget  noOfStays  transport  package  foodplace  attractions   \n",
       "0   21       0    2000          3          3        1          3            1  \\\n",
       "1   21       0    5000          4          0        0          2            2   \n",
       "\n",
       "   accommodation  cancelPolicy  \n",
       "0              2             1  \n",
       "1              3             1  "
      ]
     },
     "execution_count": 4,
     "metadata": {},
     "output_type": "execute_result"
    }
   ],
   "source": [
    "# Data slicing\n",
    "x = df.iloc[:, [0,1,2,3,8,10,11,12,13,14]]  #features\n",
    "y = df.iloc[:, [6]]  #label\n",
    "\n",
    "x.head(2)"
   ]
  },
  {
   "cell_type": "code",
   "execution_count": 5,
   "id": "f3254f3c",
   "metadata": {},
   "outputs": [],
   "source": [
    "# Convert dataframe to array \n",
    "x = x.values \n",
    "y = y.values \n",
    "y = y.ravel() "
   ]
  },
  {
   "cell_type": "code",
   "execution_count": 6,
   "id": "91852113",
   "metadata": {},
   "outputs": [],
   "source": [
    "# K-Nearest Neighbor \n",
    "from sklearn.neighbors import KNeighborsClassifier \n",
    "model = KNeighborsClassifier(n_neighbors = 1, weights = 'uniform', algorithm = 'auto', leaf_size = 100, p =1 , metric = 'minkowski', metric_params = None, n_jobs = None)\n",
    "\n",
    "model.fit(x, y) \n",
    "yPred = model.predict(x) "
   ]
  },
  {
   "cell_type": "code",
   "execution_count": 7,
   "id": "c89c9c4f",
   "metadata": {},
   "outputs": [
    {
     "data": {
      "image/png": "[encoded data removed]",
      "text/plain": [
       "<Figure size 648x648 with 2 Axes>"
      ]
     },
     "metadata": {
      "needs_background": "light"
     },
     "output_type": "display_data"
    }
   ],
   "source": [
    "# Testing & performance analysis -Trainning data \n",
    "import sklearn.metrics as skm \n",
    "import matplotlib.pyplot as plt \n",
    "import seaborn as sns \n",
    "plt.figure(figsize=(9,9)) \n",
    "sns.heatmap(skm.confusion_matrix(y, yPred), annot=True, fmt=\".3f\", linewidths=.5, square = True, cmap = 'Blues_r'); \n",
    "plt.ylabel('Actual label'); \n",
    "plt.xlabel('Predicted label'); \n",
    "all_sample_title = 'Trainning: Accuracy Score: {0}'.format(skm.accuracy_score(y, yPred)) \n",
    "plt.title(all_sample_title, size = 15); "
   ]
  },
  {
   "cell_type": "code",
   "execution_count": 8,
   "id": "364e5d39",
   "metadata": {},
   "outputs": [],
   "source": [
    "# Read data from external file \n",
    "import pandas as pd \n",
    "df2 = pd.read_csv(\"/Users/nuwai/Downloads/Reduced_Class_Test.csv\") "
   ]
  },
  {
   "cell_type": "code",
   "execution_count": 9,
   "id": "c8eb4adc",
   "metadata": {},
   "outputs": [],
   "source": [
    "#Data transformation\n",
    "from sklearn.preprocessing import LabelEncoder\n",
    "var_mod = [ 'gender','timing','typeOfTravel','destination','activities','transport','planning','package','foodplace','attractions','accommodation','cancelPolicy']\n",
    "le = LabelEncoder()\n",
    "for i in var_mod:\n",
    "    df2[i] = le.fit_transform(df2[i])"
   ]
  },
  {
   "cell_type": "code",
   "execution_count": 10,
   "id": "d84ba325",
   "metadata": {},
   "outputs": [
    {
     "data": {
      "text/html": [
       "<div>\n",
       "<style scoped>\n",
       "    .dataframe tbody tr th:only-of-type {\n",
       "        vertical-align: middle;\n",
       "    }\n",
       "\n",
       "    .dataframe tbody tr th {\n",
       "        vertical-align: top;\n",
       "    }\n",
       "\n",
       "    .dataframe thead th {\n",
       "        text-align: right;\n",
       "    }\n",
       "</style>\n",
       "<table border=\"1\" class=\"dataframe\">\n",
       "  <thead>\n",
       "    <tr style=\"text-align: right;\">\n",
       "      <th></th>\n",
       "      <th>age</th>\n",
       "      <th>gender</th>\n",
       "      <th>budget</th>\n",
       "      <th>noOfStays</th>\n",
       "      <th>transport</th>\n",
       "      <th>package</th>\n",
       "      <th>foodplace</th>\n",
       "      <th>attractions</th>\n",
       "      <th>accommodation</th>\n",
       "      <th>cancelPolicy</th>\n",
       "    </tr>\n",
       "  </thead>\n",
       "  <tbody>\n",
       "    <tr>\n",
       "      <th>0</th>\n",
       "      <td>25</td>\n",
       "      <td>1</td>\n",
       "      <td>4500</td>\n",
       "      <td>7</td>\n",
       "      <td>0</td>\n",
       "      <td>1</td>\n",
       "      <td>0</td>\n",
       "      <td>1</td>\n",
       "      <td>2</td>\n",
       "      <td>1</td>\n",
       "    </tr>\n",
       "    <tr>\n",
       "      <th>1</th>\n",
       "      <td>18</td>\n",
       "      <td>1</td>\n",
       "      <td>1000</td>\n",
       "      <td>2</td>\n",
       "      <td>3</td>\n",
       "      <td>1</td>\n",
       "      <td>0</td>\n",
       "      <td>2</td>\n",
       "      <td>3</td>\n",
       "      <td>0</td>\n",
       "    </tr>\n",
       "    <tr>\n",
       "      <th>2</th>\n",
       "      <td>21</td>\n",
       "      <td>0</td>\n",
       "      <td>1000</td>\n",
       "      <td>5</td>\n",
       "      <td>0</td>\n",
       "      <td>1</td>\n",
       "      <td>2</td>\n",
       "      <td>1</td>\n",
       "      <td>3</td>\n",
       "      <td>1</td>\n",
       "    </tr>\n",
       "    <tr>\n",
       "      <th>3</th>\n",
       "      <td>18</td>\n",
       "      <td>1</td>\n",
       "      <td>2000</td>\n",
       "      <td>3</td>\n",
       "      <td>3</td>\n",
       "      <td>1</td>\n",
       "      <td>1</td>\n",
       "      <td>1</td>\n",
       "      <td>2</td>\n",
       "      <td>1</td>\n",
       "    </tr>\n",
       "    <tr>\n",
       "      <th>4</th>\n",
       "      <td>41</td>\n",
       "      <td>1</td>\n",
       "      <td>5000</td>\n",
       "      <td>3</td>\n",
       "      <td>3</td>\n",
       "      <td>0</td>\n",
       "      <td>2</td>\n",
       "      <td>1</td>\n",
       "      <td>2</td>\n",
       "      <td>1</td>\n",
       "    </tr>\n",
       "  </tbody>\n",
       "</table>\n",
       "</div>"
      ],
      "text/plain": [
       "   age  gender  budget  noOfStays  transport  package  foodplace  attractions   \n",
       "0   25       1    4500          7          0        1          0            1  \\\n",
       "1   18       1    1000          2          3        1          0            2   \n",
       "2   21       0    1000          5          0        1          2            1   \n",
       "3   18       1    2000          3          3        1          1            1   \n",
       "4   41       1    5000          3          3        0          2            1   \n",
       "\n",
       "   accommodation  cancelPolicy  \n",
       "0              2             1  \n",
       "1              3             0  \n",
       "2              3             1  \n",
       "3              2             1  \n",
       "4              2             1  "
      ]
     },
     "execution_count": 10,
     "metadata": {},
     "output_type": "execute_result"
    }
   ],
   "source": [
    "# Data slicing \n",
    "x2 = df2.iloc[:, [0,1,2,3,8,10,11,12,13,14]] \n",
    "y2 = df2.iloc[:, [6]] \n",
    "\n",
    "x2.head()"
   ]
  },
  {
   "cell_type": "code",
   "execution_count": 11,
   "id": "ba8e2255",
   "metadata": {},
   "outputs": [],
   "source": [
    "# Convert dataframe to array \n",
    "x2 = x2.values \n",
    "y2 = y2.values \n",
    "y2 = y2.ravel() \n",
    "\n",
    "yPred2 = model.predict(x2) "
   ]
  },
  {
   "cell_type": "code",
   "execution_count": 12,
   "id": "4b566574",
   "metadata": {},
   "outputs": [
    {
     "data": {
      "image/png": "[encoded data removed]",
      "text/plain": [
       "<Figure size 648x648 with 2 Axes>"
      ]
     },
     "metadata": {
      "needs_background": "light"
     },
     "output_type": "display_data"
    }
   ],
   "source": [
    "# Testing & performance analysis -Testing data \n",
    "import sklearn.metrics as skm \n",
    "import matplotlib.pyplot as plt \n",
    "import seaborn as sns \n",
    "plt.figure(figsize=(9,9)) \n",
    "sns.heatmap(skm.confusion_matrix(y2, yPred2), annot=True, fmt=\".3f\", linewidths=.5, square = True, cmap = 'Blues_r'); \n",
    "plt.ylabel('Actual label'); \n",
    "plt.xlabel('Predicted label'); \n",
    "all_sample_title = 'Testing: Accuracy Score: {0}'.format(skm.accuracy_score(y2, yPred2)) \n",
    "plt.title(all_sample_title, size = 15);"
   ]
  }
 ],
 "metadata": {
  "kernelspec": {
   "display_name": "Python 3 (ipykernel)",
   "language": "python",
   "name": "python3"
  },
  "language_info": {
   "codemirror_mode": {
    "name": "ipython",
    "version": 3
   },
   "file_extension": ".py",
   "mimetype": "text/x-python",
   "name": "python",
   "nbconvert_exporter": "python",
   "pygments_lexer": "ipython3",
   "version": "3.9.12"
  }
 },
 "nbformat": 4,
 "nbformat_minor": 5
}
